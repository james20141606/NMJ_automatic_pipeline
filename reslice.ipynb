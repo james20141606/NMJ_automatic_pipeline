{
 "cells": [
  {
   "cell_type": "code",
   "execution_count": 2,
   "metadata": {},
   "outputs": [],
   "source": [
    "import vtk\n",
    "import glob\n",
    "from tqdm import tqdm_notebook as tqdm\n",
    "from scipy.misc import imread\n",
    "import warnings\n",
    "warnings.filterwarnings(\"ignore\")\n",
    "import numpy as np"
   ]
  },
  {
   "cell_type": "code",
   "execution_count": 3,
   "metadata": {},
   "outputs": [
    {
     "name": "stdout",
     "output_type": "stream",
     "text": [
      "/home/xupeng/projects/membrane\n"
     ]
    }
   ],
   "source": [
    "cd /home/xupeng/projects/membrane/"
   ]
  },
  {
   "cell_type": "code",
   "execution_count": 4,
   "metadata": {},
   "outputs": [
    {
     "name": "stdout",
     "output_type": "stream",
     "text": [
      "\u001b[0m\u001b[01;35mKK_mask1_em_export_s000.png\u001b[0m  \u001b[01;35mKK_mask1_em_export_s005.png\u001b[0m\r\n",
      "\u001b[01;35mKK_mask1_em_export_s001.png\u001b[0m  \u001b[01;35mKK_mask1_em_export_s006.png\u001b[0m\r\n",
      "\u001b[01;35mKK_mask1_em_export_s002.png\u001b[0m  \u001b[01;35mKK_mask1_em_export_s007.png\u001b[0m\r\n",
      "\u001b[01;35mKK_mask1_em_export_s003.png\u001b[0m  \u001b[01;35mKK_mask1_em_export_s008.png\u001b[0m\r\n",
      "\u001b[01;35mKK_mask1_em_export_s004.png\u001b[0m  \u001b[01;35mKK_mask1_em_export_s009.png\u001b[0m\r\n"
     ]
    }
   ],
   "source": [
    "ls data/toy/"
   ]
  },
  {
   "cell_type": "code",
   "execution_count": 5,
   "metadata": {},
   "outputs": [],
   "source": [
    "from vtk.util import numpy_support\n",
    "\n",
    "pngfiles = glob.glob('data/toy/*.png')\n",
    "\n",
    "png_reader = vtk.vtkPNGReader()"
   ]
  },
  {
   "cell_type": "code",
   "execution_count": 7,
   "metadata": {},
   "outputs": [
    {
     "data": {
      "text/plain": [
       "(vtkIOImagePython.vtkPNGReader)0x7f0139cb6648"
      ]
     },
     "execution_count": 7,
     "metadata": {},
     "output_type": "execute_result"
    }
   ],
   "source": [
    "png_reader"
   ]
  },
  {
   "cell_type": "code",
   "execution_count": 6,
   "metadata": {},
   "outputs": [
    {
     "data": {
      "text/plain": [
       "'data/toy/KK_mask1_em_export_s001.png'"
      ]
     },
     "execution_count": 6,
     "metadata": {},
     "output_type": "execute_result"
    }
   ],
   "source": [
    "pngfiles[0]"
   ]
  },
  {
   "cell_type": "code",
   "execution_count": 35,
   "metadata": {},
   "outputs": [
    {
     "data": {
      "text/plain": [
       "(1413, 2469, 3)"
      ]
     },
     "execution_count": 35,
     "metadata": {},
     "output_type": "execute_result"
    }
   ],
   "source": [
    "imread('data/mask1/png/KK_mask1_em_export_s128.png').shape"
   ]
  },
  {
   "cell_type": "code",
   "execution_count": 36,
   "metadata": {},
   "outputs": [
    {
     "data": {
      "text/plain": [
       "(0, 0, 0)"
      ]
     },
     "execution_count": 36,
     "metadata": {},
     "output_type": "execute_result"
    }
   ],
   "source": [
    "png_reader.SetFileName(pngfiles[0])\n",
    "png_reader.GetOutput().GetDimensions()"
   ]
  },
  {
   "cell_type": "code",
   "execution_count": 39,
   "metadata": {},
   "outputs": [],
   "source": [
    "x,y = 1413,2469\n",
    "data_3d = np.zeros([x,y,len(pngfiles)])"
   ]
  },
  {
   "cell_type": "code",
   "execution_count": 44,
   "metadata": {},
   "outputs": [
    {
     "data": {
      "application/vnd.jupyter.widget-view+json": {
       "model_id": "12838c7179d64f3d9bd86c08ed6185ed",
       "version_major": 2,
       "version_minor": 0
      },
      "text/plain": [
       "HBox(children=(IntProgress(value=0, max=301), HTML(value='')))"
      ]
     },
     "metadata": {},
     "output_type": "display_data"
    },
    {
     "ename": "AttributeError",
     "evalue": "'vtkCommonDataModelPython.vtkImageData' object has no attribute 'GetDataType'",
     "output_type": "error",
     "traceback": [
      "\u001b[0;31m---------------------------------------------------------------------------\u001b[0m",
      "\u001b[0;31mAttributeError\u001b[0m                            Traceback (most recent call last)",
      "\u001b[0;32m<ipython-input-44-3e872236348f>\u001b[0m in \u001b[0;36m<module>\u001b[0;34m()\u001b[0m\n\u001b[1;32m      3\u001b[0m     \u001b[0mpng_reader\u001b[0m\u001b[0;34m.\u001b[0m\u001b[0mUpdate\u001b[0m\u001b[0;34m(\u001b[0m\u001b[0;34m)\u001b[0m\u001b[0;34m\u001b[0m\u001b[0m\n\u001b[1;32m      4\u001b[0m     \u001b[0mimg_data\u001b[0m \u001b[0;34m=\u001b[0m \u001b[0mpng_reader\u001b[0m\u001b[0;34m.\u001b[0m\u001b[0mGetOutput\u001b[0m\u001b[0;34m(\u001b[0m\u001b[0;34m)\u001b[0m\u001b[0;34m\u001b[0m\u001b[0m\n\u001b[0;32m----> 5\u001b[0;31m     \u001b[0mdata_3D\u001b[0m\u001b[0;34m[\u001b[0m\u001b[0;34m:\u001b[0m\u001b[0;34m,\u001b[0m\u001b[0;34m:\u001b[0m\u001b[0;34m,\u001b[0m\u001b[0mi\u001b[0m\u001b[0;34m]\u001b[0m \u001b[0;34m=\u001b[0m \u001b[0mnumpy_support\u001b[0m\u001b[0;34m.\u001b[0m\u001b[0mvtk_to_numpy\u001b[0m\u001b[0;34m(\u001b[0m\u001b[0mimg_data\u001b[0m\u001b[0;34m)\u001b[0m\u001b[0;34m\u001b[0m\u001b[0m\n\u001b[0m\u001b[1;32m      6\u001b[0m \u001b[0;34m\u001b[0m\u001b[0m\n\u001b[1;32m      7\u001b[0m \u001b[0;31m#save your 3D numpy array out.\u001b[0m\u001b[0;34m\u001b[0m\u001b[0;34m\u001b[0m\u001b[0m\n",
      "\u001b[0;32m~/anaconda3/lib/python3.6/site-packages/vtk/util/numpy_support.py\u001b[0m in \u001b[0;36mvtk_to_numpy\u001b[0;34m(vtk_array)\u001b[0m\n\u001b[1;32m    210\u001b[0m \u001b[0;34m\u001b[0m\u001b[0m\n\u001b[1;32m    211\u001b[0m     \"\"\"\n\u001b[0;32m--> 212\u001b[0;31m     \u001b[0mtyp\u001b[0m \u001b[0;34m=\u001b[0m \u001b[0mvtk_array\u001b[0m\u001b[0;34m.\u001b[0m\u001b[0mGetDataType\u001b[0m\u001b[0;34m(\u001b[0m\u001b[0;34m)\u001b[0m\u001b[0;34m\u001b[0m\u001b[0m\n\u001b[0m\u001b[1;32m    213\u001b[0m     \u001b[0;32massert\u001b[0m \u001b[0mtyp\u001b[0m \u001b[0;32min\u001b[0m \u001b[0mget_vtk_to_numpy_typemap\u001b[0m\u001b[0;34m(\u001b[0m\u001b[0;34m)\u001b[0m\u001b[0;34m.\u001b[0m\u001b[0mkeys\u001b[0m\u001b[0;34m(\u001b[0m\u001b[0;34m)\u001b[0m\u001b[0;34m,\u001b[0m\u001b[0;31m \u001b[0m\u001b[0;31m\\\u001b[0m\u001b[0;34m\u001b[0m\u001b[0m\n\u001b[1;32m    214\u001b[0m            \u001b[0;34m\"Unsupported array type %s\"\u001b[0m\u001b[0;34m%\u001b[0m\u001b[0mtyp\u001b[0m\u001b[0;34m\u001b[0m\u001b[0m\n",
      "\u001b[0;31mAttributeError\u001b[0m: 'vtkCommonDataModelPython.vtkImageData' object has no attribute 'GetDataType'"
     ]
    }
   ],
   "source": [
    "for i in tqdm(range(len(pngfiles))):\n",
    "    png_reader.SetFileName(pngfiles[0])\n",
    "    png_reader.Update()\n",
    "    img_data = png_reader.GetOutput()\n",
    "    data_3D[:,:,i] = numpy_support.vtk_to_numpy(img_data)\n",
    "\n",
    "#save your 3D numpy array out.\n",
    "data_3Dvtk = numpy_support.numpy_to_vtk(data_3D)"
   ]
  },
  {
   "cell_type": "code",
   "execution_count": null,
   "metadata": {},
   "outputs": [],
   "source": []
  },
  {
   "cell_type": "code",
   "execution_count": 8,
   "metadata": {},
   "outputs": [],
   "source": [
    "import vtk\n",
    "from vtk.util.misc import vtkGetDataRoot\n",
    "VTK_DATA_ROOT = vtkGetDataRoot()"
   ]
  },
  {
   "cell_type": "code",
   "execution_count": 9,
   "metadata": {},
   "outputs": [
    {
     "data": {
      "text/plain": [
       "'../../../../VTKData'"
      ]
     },
     "execution_count": 9,
     "metadata": {},
     "output_type": "execute_result"
    }
   ],
   "source": [
    "VTK_DATA_ROOT"
   ]
  },
  {
   "cell_type": "code",
   "execution_count": null,
   "metadata": {},
   "outputs": [],
   "source": [
    "reader = vtk.vtkImageReader2()\n",
    "reader.SetFilePrefix(VTK_DATA_ROOT + \"/Data/headsq/quarter\")\n",
    "reader.SetDataExtent(0, 63, 0, 63, 1, 93)\n",
    "reader.SetDataSpacing(3.2, 3.2, 1.5)\n",
    "reader.SetDataOrigin(0.0, 0.0, 0.0)\n",
    "reader.SetDataScalarTypeToUnsignedShort()\n",
    "reader.UpdateWholeExtent()"
   ]
  },
  {
   "cell_type": "code",
   "execution_count": null,
   "metadata": {},
   "outputs": [],
   "source": []
  },
  {
   "cell_type": "code",
   "execution_count": null,
   "metadata": {},
   "outputs": [],
   "source": [
    "resliceFilter = vtk.vtkImageReslice()\n",
    "resliceFilter.SetInput(image)\n",
    "resliceFilter.SetOutputSpacing(0.5, 0.5, 0.5)\n",
    "resliceFilter.SetInterpolationModeToCubic()\n",
    "resliceFilter.Update()\n",
    "imageResampled = resliceFilter.GetOutput()"
   ]
  },
  {
   "cell_type": "code",
   "execution_count": null,
   "metadata": {},
   "outputs": [],
   "source": [
    "# Start by loading some data.\n",
    "reader = vtk.vtkImageReader2()\n",
    "reader.SetFilePrefix(\"data/mask1/png/\")"
   ]
  },
  {
   "cell_type": "code",
   "execution_count": 3,
   "metadata": {},
   "outputs": [],
   "source": [
    "\n",
    "reader.SetDataExtent(0, 63, 0, 63, 1, 93)\n",
    "reader.SetDataSpacing(3.2, 3.2, 1.5)\n",
    "reader.SetDataOrigin(0.0, 0.0, 0.0)\n",
    "reader.SetDataScalarTypeToUnsignedShort()\n",
    "reader.UpdateWholeExtent()"
   ]
  },
  {
   "cell_type": "code",
   "execution_count": 4,
   "metadata": {},
   "outputs": [
    {
     "data": {
      "text/plain": [
       "(vtkIOImagePython.vtkImageReader2)0x7f86c828ffa8"
      ]
     },
     "execution_count": 4,
     "metadata": {},
     "output_type": "execute_result"
    }
   ],
   "source": [
    "reader"
   ]
  },
  {
   "cell_type": "code",
   "execution_count": 5,
   "metadata": {},
   "outputs": [],
   "source": [
    "# Calculate the center of the volume\n",
    "reader.Update()"
   ]
  },
  {
   "cell_type": "code",
   "execution_count": 6,
   "metadata": {},
   "outputs": [
    {
     "data": {
      "text/plain": [
       "(0, 63, 0, 63, 1, 93)"
      ]
     },
     "execution_count": 6,
     "metadata": {},
     "output_type": "execute_result"
    }
   ],
   "source": [
    "reader.GetExecutive().GetWholeExtent(reader.GetOutputInformation(0))"
   ]
  },
  {
   "cell_type": "code",
   "execution_count": null,
   "metadata": {},
   "outputs": [],
   "source": [
    "(xMin, xMax, yMin, yMax, zMin, zMax) = reader.GetExecutive().GetWholeExtent(reader.GetOutputInformation(0))\n",
    "(xSpacing, ySpacing, zSpacing) = reader.GetOutput().GetSpacing()\n",
    "(x0, y0, z0) = reader.GetOutput().GetOrigin()\n",
    "\n",
    "center = [x0 + xSpacing * 0.5 * (xMin + xMax),\n",
    "          y0 + ySpacing * 0.5 * (yMin + yMax),\n",
    "          z0 + zSpacing * 0.5 * (zMin + zMax)]\n",
    "\n",
    "# Matrices for axial, coronal, sagittal, oblique view orientations\n",
    "axial = vtk.vtkMatrix4x4()\n",
    "axial.DeepCopy((1, 0, 0, center[0],\n",
    "                0, 1, 0, center[1],\n",
    "                0, 0, 1, center[2],\n",
    "                0, 0, 0, 1))\n",
    "\n",
    "coronal = vtk.vtkMatrix4x4()\n",
    "coronal.DeepCopy((1, 0, 0, center[0],\n",
    "                  0, 0, 1, center[1],\n",
    "                  0,-1, 0, center[2],\n",
    "                  0, 0, 0, 1))\n",
    "\n",
    "sagittal = vtk.vtkMatrix4x4()\n",
    "sagittal.DeepCopy((0, 0,-1, center[0],\n",
    "                   1, 0, 0, center[1],\n",
    "                   0,-1, 0, center[2],\n",
    "                   0, 0, 0, 1))\n",
    "\n",
    "oblique = vtk.vtkMatrix4x4()\n",
    "oblique.DeepCopy((1, 0, 0, center[0],\n",
    "                  0, 0.866025, -0.5, center[1],\n",
    "                  0, 0.5, 0.866025, center[2],\n",
    "                  0, 0, 0, 1))\n",
    "\n",
    "# Extract a slice in the desired orientation\n",
    "reslice = vtk.vtkImageReslice()\n",
    "reslice.SetInputConnection(reader.GetOutputPort())\n",
    "reslice.SetOutputDimensionality(2)\n",
    "reslice.SetResliceAxes(sagittal)\n",
    "reslice.SetInterpolationModeToLinear()\n",
    "\n",
    "# Create a greyscale lookup table\n",
    "table = vtk.vtkLookupTable()\n",
    "table.SetRange(0, 2000) # image intensity range\n",
    "table.SetValueRange(0.0, 1.0) # from black to white\n",
    "table.SetSaturationRange(0.0, 0.0) # no color saturation\n",
    "table.SetRampToLinear()\n",
    "table.Build()\n",
    "\n",
    "# Map the image through the lookup table\n",
    "color = vtk.vtkImageMapToColors()\n",
    "color.SetLookupTable(table)\n",
    "color.SetInputConnection(reslice.GetOutputPort())\n",
    "\n",
    "# Display the image\n",
    "actor = vtk.vtkImageActor()\n",
    "actor.GetMapper().SetInputConnection(color.GetOutputPort())\n",
    "\n",
    "renderer = vtk.vtkRenderer()\n",
    "renderer.AddActor(actor)\n",
    "\n",
    "window = vtk.vtkRenderWindow()\n",
    "window.AddRenderer(renderer)\n",
    "\n",
    "# Set up the interaction\n",
    "interactorStyle = vtk.vtkInteractorStyleImage()\n",
    "interactor = vtk.vtkRenderWindowInteractor()\n",
    "interactor.SetInteractorStyle(interactorStyle)\n",
    "window.SetInteractor(interactor)\n",
    "window.Render()\n",
    "\n",
    "# Create callbacks for slicing the image\n",
    "actions = {}\n",
    "actions[\"Slicing\"] = 0\n",
    "\n",
    "def ButtonCallback(obj, event):\n",
    "    if event == \"LeftButtonPressEvent\":\n",
    "        actions[\"Slicing\"] = 1\n",
    "    else:\n",
    "        actions[\"Slicing\"] = 0\n",
    "\n",
    "def MouseMoveCallback(obj, event):\n",
    "    (lastX, lastY) = interactor.GetLastEventPosition()\n",
    "    (mouseX, mouseY) = interactor.GetEventPosition()\n",
    "    if actions[\"Slicing\"] == 1:\n",
    "        deltaY = mouseY - lastY\n",
    "        reslice.Update()\n",
    "        sliceSpacing = reslice.GetOutput().GetSpacing()[2]\n",
    "        matrix = reslice.GetResliceAxes()\n",
    "        # move the center point that we are slicing through\n",
    "        center = matrix.MultiplyPoint((0, 0, sliceSpacing*deltaY, 1))\n",
    "        matrix.SetElement(0, 3, center[0])\n",
    "        matrix.SetElement(1, 3, center[1])\n",
    "        matrix.SetElement(2, 3, center[2])\n",
    "        window.Render()\n",
    "    else:\n",
    "        interactorStyle.OnMouseMove()\n",
    "\n",
    "\n",
    "interactorStyle.AddObserver(\"MouseMoveEvent\", MouseMoveCallback)\n",
    "interactorStyle.AddObserver(\"LeftButtonPressEvent\", ButtonCallback)\n",
    "interactorStyle.AddObserver(\"LeftButtonReleaseEvent\", ButtonCallback)\n",
    "\n",
    "# Start interaction\n",
    "interactor.Start()"
   ]
  },
  {
   "cell_type": "code",
   "execution_count": null,
   "metadata": {},
   "outputs": [],
   "source": []
  }
 ],
 "metadata": {
  "kernelspec": {
   "display_name": "Python 3",
   "language": "python",
   "name": "python3"
  },
  "language_info": {
   "codemirror_mode": {
    "name": "ipython",
    "version": 3
   },
   "file_extension": ".py",
   "mimetype": "text/x-python",
   "name": "python",
   "nbconvert_exporter": "python",
   "pygments_lexer": "ipython3",
   "version": "3.6.5"
  },
  "toc": {
   "base_numbering": 1,
   "nav_menu": {},
   "number_sections": true,
   "sideBar": true,
   "skip_h1_title": false,
   "title_cell": "Table of Contents",
   "title_sidebar": "Contents",
   "toc_cell": false,
   "toc_position": {},
   "toc_section_display": true,
   "toc_window_display": false
  }
 },
 "nbformat": 4,
 "nbformat_minor": 2
}
